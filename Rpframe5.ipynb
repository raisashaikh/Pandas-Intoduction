{
 "cells": [
  {
   "cell_type": "markdown",
   "id": "1d214bac",
   "metadata": {},
   "source": [
    "# Groupby"
   ]
  },
  {
   "cell_type": "markdown",
   "id": "6416df31",
   "metadata": {},
   "source": [
    "Groupby is a pretty simple concept. We can create a grouping of categories and apply a function to the categories. It’s a simple concept but it’s an extremely valuable technique that’s widely used in data science. In real data science projects, you’ll be dealing with large amounts of data and trying things over and over, so for efficiency, we use Groupby concept. Groupby concept is really important because it’s ability to aggregate data efficiently, both in performance and the amount code is magnificent. "
   ]
  },
  {
   "cell_type": "markdown",
   "id": "ced0668f",
   "metadata": {},
   "source": [
    "Any groupby operation involves one of the following operations on the original object. They are −\n",
    "\n",
    "Splitting the Object\n",
    "\n",
    "Applying a function\n",
    "\n",
    "Combining the results\n",
    "\n",
    "In many situations, we split the data into sets and we apply some functionality on each subset. In the apply functionality, we can perform the following operations −\n",
    "\n",
    "Aggregation − computing a summary statistic\n",
    "\n",
    "Transformation − perform some group-specific operation\n",
    "\n",
    "Filtration − discarding the data with some condition\n",
    "\n"
   ]
  },
  {
   "cell_type": "code",
   "execution_count": 56,
   "id": "6e2e4fde",
   "metadata": {},
   "outputs": [
    {
     "data": {
      "text/html": [
       "<div>\n",
       "<style scoped>\n",
       "    .dataframe tbody tr th:only-of-type {\n",
       "        vertical-align: middle;\n",
       "    }\n",
       "\n",
       "    .dataframe tbody tr th {\n",
       "        vertical-align: top;\n",
       "    }\n",
       "\n",
       "    .dataframe thead th {\n",
       "        text-align: right;\n",
       "    }\n",
       "</style>\n",
       "<table border=\"1\" class=\"dataframe\">\n",
       "  <thead>\n",
       "    <tr style=\"text-align: right;\">\n",
       "      <th></th>\n",
       "      <th>Team</th>\n",
       "      <th>Rank</th>\n",
       "      <th>Year</th>\n",
       "      <th>Points</th>\n",
       "    </tr>\n",
       "  </thead>\n",
       "  <tbody>\n",
       "    <tr>\n",
       "      <th>0</th>\n",
       "      <td>MI</td>\n",
       "      <td>1</td>\n",
       "      <td>2014</td>\n",
       "      <td>876</td>\n",
       "    </tr>\n",
       "    <tr>\n",
       "      <th>1</th>\n",
       "      <td>MI</td>\n",
       "      <td>2</td>\n",
       "      <td>2015</td>\n",
       "      <td>789</td>\n",
       "    </tr>\n",
       "    <tr>\n",
       "      <th>2</th>\n",
       "      <td>Devils</td>\n",
       "      <td>2</td>\n",
       "      <td>2014</td>\n",
       "      <td>863</td>\n",
       "    </tr>\n",
       "    <tr>\n",
       "      <th>3</th>\n",
       "      <td>Devils</td>\n",
       "      <td>3</td>\n",
       "      <td>2015</td>\n",
       "      <td>673</td>\n",
       "    </tr>\n",
       "    <tr>\n",
       "      <th>4</th>\n",
       "      <td>Kings</td>\n",
       "      <td>3</td>\n",
       "      <td>2014</td>\n",
       "      <td>741</td>\n",
       "    </tr>\n",
       "    <tr>\n",
       "      <th>5</th>\n",
       "      <td>CSK</td>\n",
       "      <td>4</td>\n",
       "      <td>2015</td>\n",
       "      <td>812</td>\n",
       "    </tr>\n",
       "    <tr>\n",
       "      <th>6</th>\n",
       "      <td>CSK</td>\n",
       "      <td>1</td>\n",
       "      <td>2016</td>\n",
       "      <td>756</td>\n",
       "    </tr>\n",
       "    <tr>\n",
       "      <th>7</th>\n",
       "      <td>CSK</td>\n",
       "      <td>1</td>\n",
       "      <td>2017</td>\n",
       "      <td>788</td>\n",
       "    </tr>\n",
       "    <tr>\n",
       "      <th>8</th>\n",
       "      <td>MI</td>\n",
       "      <td>2</td>\n",
       "      <td>2016</td>\n",
       "      <td>694</td>\n",
       "    </tr>\n",
       "    <tr>\n",
       "      <th>9</th>\n",
       "      <td>Royals</td>\n",
       "      <td>4</td>\n",
       "      <td>2014</td>\n",
       "      <td>701</td>\n",
       "    </tr>\n",
       "    <tr>\n",
       "      <th>10</th>\n",
       "      <td>Royals</td>\n",
       "      <td>1</td>\n",
       "      <td>2015</td>\n",
       "      <td>804</td>\n",
       "    </tr>\n",
       "    <tr>\n",
       "      <th>11</th>\n",
       "      <td>MI</td>\n",
       "      <td>2</td>\n",
       "      <td>2017</td>\n",
       "      <td>690</td>\n",
       "    </tr>\n",
       "  </tbody>\n",
       "</table>\n",
       "</div>"
      ],
      "text/plain": [
       "      Team  Rank  Year  Points\n",
       "0       MI     1  2014     876\n",
       "1       MI     2  2015     789\n",
       "2   Devils     2  2014     863\n",
       "3   Devils     3  2015     673\n",
       "4    Kings     3  2014     741\n",
       "5      CSK     4  2015     812\n",
       "6      CSK     1  2016     756\n",
       "7      CSK     1  2017     788\n",
       "8       MI     2  2016     694\n",
       "9   Royals     4  2014     701\n",
       "10  Royals     1  2015     804\n",
       "11      MI     2  2017     690"
      ]
     },
     "execution_count": 56,
     "metadata": {},
     "output_type": "execute_result"
    }
   ],
   "source": [
    "#Splitting or Aggregations or Fiteration or Transformation\n",
    "import pandas as pd\n",
    "\n",
    "ipl_data = {'Team': ['MI', 'MI', 'Devils', 'Devils', 'Kings',\n",
    "   'CSK', 'CSK', 'CSK', 'MI', 'Royals', 'Royals', 'MI'],\n",
    "   'Rank': [1, 2, 2, 3, 3,4 ,1 ,1,2 , 4,1,2],\n",
    "   'Year': [2014,2015,2014,2015,2014,2015,2016,2017,2016,2014,2015,2017],\n",
    "   'Points':[876,789,863,673,741,812,756,788,694,701,804,690]}\n",
    "df = pd.DataFrame(ipl_data)\n",
    "df"
   ]
  },
  {
   "cell_type": "code",
   "execution_count": 57,
   "id": "4483d700",
   "metadata": {},
   "outputs": [
    {
     "data": {
      "text/plain": [
       "array(['MI', 'Devils', 'Kings', 'CSK', 'Royals'], dtype=object)"
      ]
     },
     "execution_count": 57,
     "metadata": {},
     "output_type": "execute_result"
    }
   ],
   "source": [
    "#i want the unique Team Names/find out total teams in dataset\n",
    "df['Team'].unique()"
   ]
  },
  {
   "cell_type": "code",
   "execution_count": 58,
   "id": "2eff9b19",
   "metadata": {},
   "outputs": [
    {
     "data": {
      "text/plain": [
       "MI        4\n",
       "CSK       3\n",
       "Royals    2\n",
       "Devils    2\n",
       "Kings     1\n",
       "Name: Team, dtype: int64"
      ]
     },
     "execution_count": 58,
     "metadata": {},
     "output_type": "execute_result"
    }
   ],
   "source": [
    "df['Team'].value_counts()"
   ]
  },
  {
   "cell_type": "code",
   "execution_count": 59,
   "id": "a0d28c8d",
   "metadata": {},
   "outputs": [
    {
     "data": {
      "text/plain": [
       "<pandas.core.groupby.generic.DataFrameGroupBy object at 0x000001EC25EE0F10>"
      ]
     },
     "execution_count": 59,
     "metadata": {},
     "output_type": "execute_result"
    }
   ],
   "source": [
    "df.groupby('Team') #groupby on Team column"
   ]
  },
  {
   "cell_type": "code",
   "execution_count": 60,
   "id": "da5b0537",
   "metadata": {},
   "outputs": [
    {
     "data": {
      "text/plain": [
       "{'CSK': [5, 6, 7], 'Devils': [2, 3], 'Kings': [4], 'MI': [0, 1, 8, 11], 'Royals': [9, 10]}"
      ]
     },
     "execution_count": 60,
     "metadata": {},
     "output_type": "execute_result"
    }
   ],
   "source": [
    "df.groupby('Team').groups#it gives team name : index(where it is present)"
   ]
  },
  {
   "cell_type": "code",
   "execution_count": 61,
   "id": "b674b6cf",
   "metadata": {},
   "outputs": [
    {
     "data": {
      "text/plain": [
       "[('CSK',\n",
       "    Team  Rank  Year  Points\n",
       "  5  CSK     4  2015     812\n",
       "  6  CSK     1  2016     756\n",
       "  7  CSK     1  2017     788),\n",
       " ('Devils',\n",
       "       Team  Rank  Year  Points\n",
       "  2  Devils     2  2014     863\n",
       "  3  Devils     3  2015     673),\n",
       " ('Kings',\n",
       "      Team  Rank  Year  Points\n",
       "  4  Kings     3  2014     741),\n",
       " ('MI',\n",
       "     Team  Rank  Year  Points\n",
       "  0    MI     1  2014     876\n",
       "  1    MI     2  2015     789\n",
       "  8    MI     2  2016     694\n",
       "  11   MI     2  2017     690),\n",
       " ('Royals',\n",
       "        Team  Rank  Year  Points\n",
       "  9   Royals     4  2014     701\n",
       "  10  Royals     1  2015     804)]"
      ]
     },
     "execution_count": 61,
     "metadata": {},
     "output_type": "execute_result"
    }
   ],
   "source": [
    "list(df.groupby('Team'))"
   ]
  },
  {
   "cell_type": "code",
   "execution_count": 62,
   "id": "3e65fab0",
   "metadata": {},
   "outputs": [
    {
     "name": "stdout",
     "output_type": "stream",
     "text": [
      "('CSK',   Team  Rank  Year  Points\n",
      "5  CSK     4  2015     812\n",
      "6  CSK     1  2016     756\n",
      "7  CSK     1  2017     788)\n",
      "('Devils',      Team  Rank  Year  Points\n",
      "2  Devils     2  2014     863\n",
      "3  Devils     3  2015     673)\n",
      "('Kings',     Team  Rank  Year  Points\n",
      "4  Kings     3  2014     741)\n",
      "('MI',    Team  Rank  Year  Points\n",
      "0    MI     1  2014     876\n",
      "1    MI     2  2015     789\n",
      "8    MI     2  2016     694\n",
      "11   MI     2  2017     690)\n",
      "('Royals',       Team  Rank  Year  Points\n",
      "9   Royals     4  2014     701\n",
      "10  Royals     1  2015     804)\n"
     ]
    }
   ],
   "source": [
    "for i in df.groupby('Team'):\n",
    "    print(i)"
   ]
  },
  {
   "cell_type": "code",
   "execution_count": 63,
   "id": "312d33df",
   "metadata": {},
   "outputs": [
    {
     "name": "stdout",
     "output_type": "stream",
     "text": [
      "('CSK',   Team  Rank  Year  Points\n",
      "5  CSK     4  2015     812\n",
      "6  CSK     1  2016     756\n",
      "7  CSK     1  2017     788)\n",
      "\n",
      "\n",
      "('Devils',      Team  Rank  Year  Points\n",
      "2  Devils     2  2014     863\n",
      "3  Devils     3  2015     673)\n",
      "\n",
      "\n",
      "('Kings',     Team  Rank  Year  Points\n",
      "4  Kings     3  2014     741)\n",
      "\n",
      "\n",
      "('MI',    Team  Rank  Year  Points\n",
      "0    MI     1  2014     876\n",
      "1    MI     2  2015     789\n",
      "8    MI     2  2016     694\n",
      "11   MI     2  2017     690)\n",
      "\n",
      "\n",
      "('Royals',       Team  Rank  Year  Points\n",
      "9   Royals     4  2014     701\n",
      "10  Royals     1  2015     804)\n",
      "\n",
      "\n"
     ]
    }
   ],
   "source": [
    "for i in df.groupby('Team'):\n",
    "    print(i)\n",
    "    print('\\n')# it will give space between record of two teams.\n"
   ]
  },
  {
   "cell_type": "code",
   "execution_count": 64,
   "id": "2759d8eb",
   "metadata": {},
   "outputs": [
    {
     "name": "stdout",
     "output_type": "stream",
     "text": [
      "CSK\n",
      "\n",
      "\n",
      "Devils\n",
      "\n",
      "\n",
      "Kings\n",
      "\n",
      "\n",
      "MI\n",
      "\n",
      "\n",
      "Royals\n",
      "\n",
      "\n"
     ]
    }
   ],
   "source": [
    "#if i want only team from a tuple\n",
    "for i in df.groupby('Team'):\n",
    "    print(i[0])\n",
    "    print('\\n')"
   ]
  },
  {
   "cell_type": "code",
   "execution_count": 65,
   "id": "b6e47829",
   "metadata": {},
   "outputs": [
    {
     "name": "stdout",
     "output_type": "stream",
     "text": [
      "CSK\n",
      "\n",
      "\n",
      "Devils\n",
      "\n",
      "\n",
      "Kings\n",
      "\n",
      "\n",
      "MI\n",
      "\n",
      "\n",
      "Royals\n",
      "\n",
      "\n"
     ]
    }
   ],
   "source": [
    "#if i want only dataFrame of team from a tuple\n",
    "for i in df.groupby('Team'):\n",
    "    print(i[0])\n",
    "    print('\\n')"
   ]
  },
  {
   "cell_type": "code",
   "execution_count": 66,
   "id": "0666c5cf",
   "metadata": {},
   "outputs": [
    {
     "name": "stdout",
     "output_type": "stream",
     "text": [
      "  Team  Rank  Year  Points\n",
      "5  CSK     4  2015     812\n",
      "6  CSK     1  2016     756\n",
      "7  CSK     1  2017     788\n",
      "\n",
      "\n",
      "     Team  Rank  Year  Points\n",
      "2  Devils     2  2014     863\n",
      "3  Devils     3  2015     673\n",
      "\n",
      "\n",
      "    Team  Rank  Year  Points\n",
      "4  Kings     3  2014     741\n",
      "\n",
      "\n",
      "   Team  Rank  Year  Points\n",
      "0    MI     1  2014     876\n",
      "1    MI     2  2015     789\n",
      "8    MI     2  2016     694\n",
      "11   MI     2  2017     690\n",
      "\n",
      "\n",
      "      Team  Rank  Year  Points\n",
      "9   Royals     4  2014     701\n",
      "10  Royals     1  2015     804\n",
      "\n",
      "\n"
     ]
    }
   ],
   "source": [
    "#if i want only team and adata from a tuple\n",
    "for team,Data in df.groupby('Team'):\n",
    "    print(Data)\n",
    "    print('\\n')"
   ]
  },
  {
   "cell_type": "code",
   "execution_count": 67,
   "id": "e342cb5d",
   "metadata": {},
   "outputs": [
    {
     "name": "stdout",
     "output_type": "stream",
     "text": [
      "   Team  Rank  Year  Points\n",
      "0    MI     1  2014     876\n",
      "1    MI     2  2015     789\n",
      "8    MI     2  2016     694\n",
      "11   MI     2  2017     690\n"
     ]
    }
   ],
   "source": [
    "#fetch data of only MI\n",
    "for team,data in df.groupby('Team'):\n",
    "    if team=='MI':\n",
    "        print(data)"
   ]
  },
  {
   "cell_type": "code",
   "execution_count": 68,
   "id": "a89fdaf9",
   "metadata": {},
   "outputs": [
    {
     "data": {
      "text/html": [
       "<div>\n",
       "<style scoped>\n",
       "    .dataframe tbody tr th:only-of-type {\n",
       "        vertical-align: middle;\n",
       "    }\n",
       "\n",
       "    .dataframe tbody tr th {\n",
       "        vertical-align: top;\n",
       "    }\n",
       "\n",
       "    .dataframe thead th {\n",
       "        text-align: right;\n",
       "    }\n",
       "</style>\n",
       "<table border=\"1\" class=\"dataframe\">\n",
       "  <thead>\n",
       "    <tr style=\"text-align: right;\">\n",
       "      <th></th>\n",
       "      <th>Team</th>\n",
       "      <th>Rank</th>\n",
       "      <th>Year</th>\n",
       "      <th>Points</th>\n",
       "    </tr>\n",
       "  </thead>\n",
       "  <tbody>\n",
       "    <tr>\n",
       "      <th>0</th>\n",
       "      <td>MI</td>\n",
       "      <td>1</td>\n",
       "      <td>2014</td>\n",
       "      <td>876</td>\n",
       "    </tr>\n",
       "    <tr>\n",
       "      <th>1</th>\n",
       "      <td>MI</td>\n",
       "      <td>2</td>\n",
       "      <td>2015</td>\n",
       "      <td>789</td>\n",
       "    </tr>\n",
       "    <tr>\n",
       "      <th>8</th>\n",
       "      <td>MI</td>\n",
       "      <td>2</td>\n",
       "      <td>2016</td>\n",
       "      <td>694</td>\n",
       "    </tr>\n",
       "    <tr>\n",
       "      <th>11</th>\n",
       "      <td>MI</td>\n",
       "      <td>2</td>\n",
       "      <td>2017</td>\n",
       "      <td>690</td>\n",
       "    </tr>\n",
       "  </tbody>\n",
       "</table>\n",
       "</div>"
      ],
      "text/plain": [
       "   Team  Rank  Year  Points\n",
       "0    MI     1  2014     876\n",
       "1    MI     2  2015     789\n",
       "8    MI     2  2016     694\n",
       "11   MI     2  2017     690"
      ]
     },
     "execution_count": 68,
     "metadata": {},
     "output_type": "execute_result"
    }
   ],
   "source": [
    "df.groupby('Team').get_group(\"MI\")"
   ]
  },
  {
   "cell_type": "code",
   "execution_count": 69,
   "id": "db8c7d6c",
   "metadata": {},
   "outputs": [
    {
     "data": {
      "text/html": [
       "<div>\n",
       "<style scoped>\n",
       "    .dataframe tbody tr th:only-of-type {\n",
       "        vertical-align: middle;\n",
       "    }\n",
       "\n",
       "    .dataframe tbody tr th {\n",
       "        vertical-align: top;\n",
       "    }\n",
       "\n",
       "    .dataframe thead th {\n",
       "        text-align: right;\n",
       "    }\n",
       "</style>\n",
       "<table border=\"1\" class=\"dataframe\">\n",
       "  <thead>\n",
       "    <tr style=\"text-align: right;\">\n",
       "      <th></th>\n",
       "      <th>Team</th>\n",
       "      <th>Rank</th>\n",
       "      <th>Year</th>\n",
       "      <th>Points</th>\n",
       "    </tr>\n",
       "  </thead>\n",
       "  <tbody>\n",
       "    <tr>\n",
       "      <th>0</th>\n",
       "      <td>MI</td>\n",
       "      <td>1</td>\n",
       "      <td>2014</td>\n",
       "      <td>876</td>\n",
       "    </tr>\n",
       "    <tr>\n",
       "      <th>1</th>\n",
       "      <td>MI</td>\n",
       "      <td>2</td>\n",
       "      <td>2015</td>\n",
       "      <td>789</td>\n",
       "    </tr>\n",
       "    <tr>\n",
       "      <th>2</th>\n",
       "      <td>Devils</td>\n",
       "      <td>2</td>\n",
       "      <td>2014</td>\n",
       "      <td>863</td>\n",
       "    </tr>\n",
       "    <tr>\n",
       "      <th>3</th>\n",
       "      <td>Devils</td>\n",
       "      <td>3</td>\n",
       "      <td>2015</td>\n",
       "      <td>673</td>\n",
       "    </tr>\n",
       "    <tr>\n",
       "      <th>4</th>\n",
       "      <td>Kings</td>\n",
       "      <td>3</td>\n",
       "      <td>2014</td>\n",
       "      <td>741</td>\n",
       "    </tr>\n",
       "    <tr>\n",
       "      <th>5</th>\n",
       "      <td>CSK</td>\n",
       "      <td>4</td>\n",
       "      <td>2015</td>\n",
       "      <td>812</td>\n",
       "    </tr>\n",
       "    <tr>\n",
       "      <th>6</th>\n",
       "      <td>CSK</td>\n",
       "      <td>1</td>\n",
       "      <td>2016</td>\n",
       "      <td>756</td>\n",
       "    </tr>\n",
       "    <tr>\n",
       "      <th>7</th>\n",
       "      <td>CSK</td>\n",
       "      <td>1</td>\n",
       "      <td>2017</td>\n",
       "      <td>788</td>\n",
       "    </tr>\n",
       "    <tr>\n",
       "      <th>8</th>\n",
       "      <td>MI</td>\n",
       "      <td>2</td>\n",
       "      <td>2016</td>\n",
       "      <td>694</td>\n",
       "    </tr>\n",
       "    <tr>\n",
       "      <th>9</th>\n",
       "      <td>Royals</td>\n",
       "      <td>4</td>\n",
       "      <td>2014</td>\n",
       "      <td>701</td>\n",
       "    </tr>\n",
       "    <tr>\n",
       "      <th>10</th>\n",
       "      <td>Royals</td>\n",
       "      <td>1</td>\n",
       "      <td>2015</td>\n",
       "      <td>804</td>\n",
       "    </tr>\n",
       "    <tr>\n",
       "      <th>11</th>\n",
       "      <td>MI</td>\n",
       "      <td>2</td>\n",
       "      <td>2017</td>\n",
       "      <td>690</td>\n",
       "    </tr>\n",
       "  </tbody>\n",
       "</table>\n",
       "</div>"
      ],
      "text/plain": [
       "      Team  Rank  Year  Points\n",
       "0       MI     1  2014     876\n",
       "1       MI     2  2015     789\n",
       "2   Devils     2  2014     863\n",
       "3   Devils     3  2015     673\n",
       "4    Kings     3  2014     741\n",
       "5      CSK     4  2015     812\n",
       "6      CSK     1  2016     756\n",
       "7      CSK     1  2017     788\n",
       "8       MI     2  2016     694\n",
       "9   Royals     4  2014     701\n",
       "10  Royals     1  2015     804\n",
       "11      MI     2  2017     690"
      ]
     },
     "execution_count": 69,
     "metadata": {},
     "output_type": "execute_result"
    }
   ],
   "source": [
    "df"
   ]
  },
  {
   "cell_type": "code",
   "execution_count": 70,
   "id": "ced27cf9",
   "metadata": {},
   "outputs": [
    {
     "data": {
      "text/html": [
       "<div>\n",
       "<style scoped>\n",
       "    .dataframe tbody tr th:only-of-type {\n",
       "        vertical-align: middle;\n",
       "    }\n",
       "\n",
       "    .dataframe tbody tr th {\n",
       "        vertical-align: top;\n",
       "    }\n",
       "\n",
       "    .dataframe thead th {\n",
       "        text-align: right;\n",
       "    }\n",
       "</style>\n",
       "<table border=\"1\" class=\"dataframe\">\n",
       "  <thead>\n",
       "    <tr style=\"text-align: right;\">\n",
       "      <th></th>\n",
       "      <th>Rank</th>\n",
       "      <th>Year</th>\n",
       "      <th>Points</th>\n",
       "    </tr>\n",
       "    <tr>\n",
       "      <th>Team</th>\n",
       "      <th></th>\n",
       "      <th></th>\n",
       "      <th></th>\n",
       "    </tr>\n",
       "  </thead>\n",
       "  <tbody>\n",
       "    <tr>\n",
       "      <th>CSK</th>\n",
       "      <td>2.00</td>\n",
       "      <td>2016.0</td>\n",
       "      <td>785.333333</td>\n",
       "    </tr>\n",
       "    <tr>\n",
       "      <th>Devils</th>\n",
       "      <td>2.50</td>\n",
       "      <td>2014.5</td>\n",
       "      <td>768.000000</td>\n",
       "    </tr>\n",
       "    <tr>\n",
       "      <th>Kings</th>\n",
       "      <td>3.00</td>\n",
       "      <td>2014.0</td>\n",
       "      <td>741.000000</td>\n",
       "    </tr>\n",
       "    <tr>\n",
       "      <th>MI</th>\n",
       "      <td>1.75</td>\n",
       "      <td>2015.5</td>\n",
       "      <td>762.250000</td>\n",
       "    </tr>\n",
       "    <tr>\n",
       "      <th>Royals</th>\n",
       "      <td>2.50</td>\n",
       "      <td>2014.5</td>\n",
       "      <td>752.500000</td>\n",
       "    </tr>\n",
       "  </tbody>\n",
       "</table>\n",
       "</div>"
      ],
      "text/plain": [
       "        Rank    Year      Points\n",
       "Team                            \n",
       "CSK     2.00  2016.0  785.333333\n",
       "Devils  2.50  2014.5  768.000000\n",
       "Kings   3.00  2014.0  741.000000\n",
       "MI      1.75  2015.5  762.250000\n",
       "Royals  2.50  2014.5  752.500000"
      ]
     },
     "execution_count": 70,
     "metadata": {},
     "output_type": "execute_result"
    }
   ],
   "source": [
    "df.groupby('Team').mean() "
   ]
  },
  {
   "cell_type": "code",
   "execution_count": 71,
   "id": "4147ea11",
   "metadata": {},
   "outputs": [
    {
     "data": {
      "text/plain": [
       "Team\n",
       "CSK       785.333333\n",
       "Devils    768.000000\n",
       "Kings     741.000000\n",
       "MI        762.250000\n",
       "Royals    752.500000\n",
       "Name: Points, dtype: float64"
      ]
     },
     "execution_count": 71,
     "metadata": {},
     "output_type": "execute_result"
    }
   ],
   "source": [
    "df.groupby('Team').mean()['Points']"
   ]
  },
  {
   "cell_type": "code",
   "execution_count": 72,
   "id": "b6eb6bfb",
   "metadata": {},
   "outputs": [
    {
     "data": {
      "text/plain": [
       "Team\n",
       "CSK       2.00\n",
       "Devils    2.50\n",
       "Kings     3.00\n",
       "MI        1.75\n",
       "Royals    2.50\n",
       "Name: Rank, dtype: float64"
      ]
     },
     "execution_count": 72,
     "metadata": {},
     "output_type": "execute_result"
    }
   ],
   "source": [
    "df.groupby('Team').mean()['Rank']"
   ]
  },
  {
   "cell_type": "code",
   "execution_count": 73,
   "id": "85d14e9a",
   "metadata": {},
   "outputs": [
    {
     "data": {
      "text/plain": [
       "Team\n",
       "CSK       2356\n",
       "Devils    1536\n",
       "Kings      741\n",
       "MI        3049\n",
       "Royals    1505\n",
       "Name: Points, dtype: int64"
      ]
     },
     "execution_count": 73,
     "metadata": {},
     "output_type": "execute_result"
    }
   ],
   "source": [
    "#take sum of all points yearwise\n",
    "df.groupby('Team').sum()['Points']"
   ]
  },
  {
   "cell_type": "code",
   "execution_count": 74,
   "id": "59859e59",
   "metadata": {},
   "outputs": [
    {
     "data": {
      "text/plain": [
       "{1: [0, 6, 7, 10], 2: [1, 2, 8, 11], 3: [3, 4], 4: [5, 9]}"
      ]
     },
     "execution_count": 74,
     "metadata": {},
     "output_type": "execute_result"
    }
   ],
   "source": [
    "df.groupby('Rank').groups #Total teams 5"
   ]
  },
  {
   "cell_type": "code",
   "execution_count": 75,
   "id": "6530fdd9",
   "metadata": {},
   "outputs": [
    {
     "data": {
      "text/plain": [
       "[(1,\n",
       "        Team  Rank  Year  Points\n",
       "  0       MI     1  2014     876\n",
       "  6      CSK     1  2016     756\n",
       "  7      CSK     1  2017     788\n",
       "  10  Royals     1  2015     804),\n",
       " (2,\n",
       "        Team  Rank  Year  Points\n",
       "  1       MI     2  2015     789\n",
       "  2   Devils     2  2014     863\n",
       "  8       MI     2  2016     694\n",
       "  11      MI     2  2017     690),\n",
       " (3,\n",
       "       Team  Rank  Year  Points\n",
       "  3  Devils     3  2015     673\n",
       "  4   Kings     3  2014     741),\n",
       " (4,\n",
       "       Team  Rank  Year  Points\n",
       "  5     CSK     4  2015     812\n",
       "  9  Royals     4  2014     701)]"
      ]
     },
     "execution_count": 75,
     "metadata": {},
     "output_type": "execute_result"
    }
   ],
   "source": [
    "list(df.groupby('Rank'))"
   ]
  },
  {
   "cell_type": "code",
   "execution_count": 76,
   "id": "13acaae5",
   "metadata": {},
   "outputs": [
    {
     "data": {
      "text/html": [
       "<div>\n",
       "<style scoped>\n",
       "    .dataframe tbody tr th:only-of-type {\n",
       "        vertical-align: middle;\n",
       "    }\n",
       "\n",
       "    .dataframe tbody tr th {\n",
       "        vertical-align: top;\n",
       "    }\n",
       "\n",
       "    .dataframe thead th {\n",
       "        text-align: right;\n",
       "    }\n",
       "</style>\n",
       "<table border=\"1\" class=\"dataframe\">\n",
       "  <thead>\n",
       "    <tr style=\"text-align: right;\">\n",
       "      <th></th>\n",
       "      <th>Team</th>\n",
       "      <th>Rank</th>\n",
       "      <th>Year</th>\n",
       "      <th>Points</th>\n",
       "    </tr>\n",
       "  </thead>\n",
       "  <tbody>\n",
       "    <tr>\n",
       "      <th>0</th>\n",
       "      <td>MI</td>\n",
       "      <td>1</td>\n",
       "      <td>2014</td>\n",
       "      <td>876</td>\n",
       "    </tr>\n",
       "    <tr>\n",
       "      <th>6</th>\n",
       "      <td>CSK</td>\n",
       "      <td>1</td>\n",
       "      <td>2016</td>\n",
       "      <td>756</td>\n",
       "    </tr>\n",
       "    <tr>\n",
       "      <th>7</th>\n",
       "      <td>CSK</td>\n",
       "      <td>1</td>\n",
       "      <td>2017</td>\n",
       "      <td>788</td>\n",
       "    </tr>\n",
       "    <tr>\n",
       "      <th>10</th>\n",
       "      <td>Royals</td>\n",
       "      <td>1</td>\n",
       "      <td>2015</td>\n",
       "      <td>804</td>\n",
       "    </tr>\n",
       "  </tbody>\n",
       "</table>\n",
       "</div>"
      ],
      "text/plain": [
       "      Team  Rank  Year  Points\n",
       "0       MI     1  2014     876\n",
       "6      CSK     1  2016     756\n",
       "7      CSK     1  2017     788\n",
       "10  Royals     1  2015     804"
      ]
     },
     "execution_count": 76,
     "metadata": {},
     "output_type": "execute_result"
    }
   ],
   "source": [
    "#fetch only teams with rank 1\n",
    "df.groupby('Rank').get_group(1)"
   ]
  },
  {
   "cell_type": "code",
   "execution_count": 77,
   "id": "1f0ea0dc",
   "metadata": {},
   "outputs": [
    {
     "data": {
      "text/html": [
       "<div>\n",
       "<style scoped>\n",
       "    .dataframe tbody tr th:only-of-type {\n",
       "        vertical-align: middle;\n",
       "    }\n",
       "\n",
       "    .dataframe tbody tr th {\n",
       "        vertical-align: top;\n",
       "    }\n",
       "\n",
       "    .dataframe thead th {\n",
       "        text-align: right;\n",
       "    }\n",
       "</style>\n",
       "<table border=\"1\" class=\"dataframe\">\n",
       "  <thead>\n",
       "    <tr style=\"text-align: right;\">\n",
       "      <th></th>\n",
       "      <th>Year</th>\n",
       "      <th>Points</th>\n",
       "    </tr>\n",
       "    <tr>\n",
       "      <th>Rank</th>\n",
       "      <th></th>\n",
       "      <th></th>\n",
       "    </tr>\n",
       "  </thead>\n",
       "  <tbody>\n",
       "    <tr>\n",
       "      <th>1</th>\n",
       "      <td>2014</td>\n",
       "      <td>876</td>\n",
       "    </tr>\n",
       "    <tr>\n",
       "      <th>2</th>\n",
       "      <td>2015</td>\n",
       "      <td>789</td>\n",
       "    </tr>\n",
       "    <tr>\n",
       "      <th>3</th>\n",
       "      <td>2015</td>\n",
       "      <td>673</td>\n",
       "    </tr>\n",
       "    <tr>\n",
       "      <th>4</th>\n",
       "      <td>2015</td>\n",
       "      <td>812</td>\n",
       "    </tr>\n",
       "  </tbody>\n",
       "</table>\n",
       "</div>"
      ],
      "text/plain": [
       "      Year  Points\n",
       "Rank              \n",
       "1     2014     876\n",
       "2     2015     789\n",
       "3     2015     673\n",
       "4     2015     812"
      ]
     },
     "execution_count": 77,
     "metadata": {},
     "output_type": "execute_result"
    }
   ],
   "source": [
    "df.groupby('Rank').first(3) #last()"
   ]
  },
  {
   "cell_type": "code",
   "execution_count": 78,
   "id": "5a62a1c5",
   "metadata": {},
   "outputs": [
    {
     "data": {
      "text/html": [
       "<div>\n",
       "<style scoped>\n",
       "    .dataframe tbody tr th:only-of-type {\n",
       "        vertical-align: middle;\n",
       "    }\n",
       "\n",
       "    .dataframe tbody tr th {\n",
       "        vertical-align: top;\n",
       "    }\n",
       "\n",
       "    .dataframe thead th {\n",
       "        text-align: right;\n",
       "    }\n",
       "</style>\n",
       "<table border=\"1\" class=\"dataframe\">\n",
       "  <thead>\n",
       "    <tr style=\"text-align: right;\">\n",
       "      <th></th>\n",
       "      <th>Team</th>\n",
       "      <th>Year</th>\n",
       "      <th>Points</th>\n",
       "    </tr>\n",
       "    <tr>\n",
       "      <th>Rank</th>\n",
       "      <th></th>\n",
       "      <th></th>\n",
       "      <th></th>\n",
       "    </tr>\n",
       "  </thead>\n",
       "  <tbody>\n",
       "    <tr>\n",
       "      <th>1</th>\n",
       "      <td>MI</td>\n",
       "      <td>2014</td>\n",
       "      <td>876</td>\n",
       "    </tr>\n",
       "    <tr>\n",
       "      <th>2</th>\n",
       "      <td>MI</td>\n",
       "      <td>2015</td>\n",
       "      <td>789</td>\n",
       "    </tr>\n",
       "    <tr>\n",
       "      <th>3</th>\n",
       "      <td>Devils</td>\n",
       "      <td>2015</td>\n",
       "      <td>673</td>\n",
       "    </tr>\n",
       "    <tr>\n",
       "      <th>4</th>\n",
       "      <td>CSK</td>\n",
       "      <td>2015</td>\n",
       "      <td>812</td>\n",
       "    </tr>\n",
       "  </tbody>\n",
       "</table>\n",
       "</div>"
      ],
      "text/plain": [
       "        Team  Year  Points\n",
       "Rank                      \n",
       "1         MI  2014     876\n",
       "2         MI  2015     789\n",
       "3     Devils  2015     673\n",
       "4        CSK  2015     812"
      ]
     },
     "execution_count": 78,
     "metadata": {},
     "output_type": "execute_result"
    }
   ],
   "source": [
    "df.groupby('Rank').first() #last()"
   ]
  },
  {
   "cell_type": "code",
   "execution_count": 79,
   "id": "3547e16e",
   "metadata": {},
   "outputs": [
    {
     "data": {
      "text/html": [
       "<div>\n",
       "<style scoped>\n",
       "    .dataframe tbody tr th:only-of-type {\n",
       "        vertical-align: middle;\n",
       "    }\n",
       "\n",
       "    .dataframe tbody tr th {\n",
       "        vertical-align: top;\n",
       "    }\n",
       "\n",
       "    .dataframe thead th {\n",
       "        text-align: right;\n",
       "    }\n",
       "</style>\n",
       "<table border=\"1\" class=\"dataframe\">\n",
       "  <thead>\n",
       "    <tr style=\"text-align: right;\">\n",
       "      <th></th>\n",
       "      <th>Team</th>\n",
       "      <th>Year</th>\n",
       "      <th>Points</th>\n",
       "    </tr>\n",
       "    <tr>\n",
       "      <th>Rank</th>\n",
       "      <th></th>\n",
       "      <th></th>\n",
       "      <th></th>\n",
       "    </tr>\n",
       "  </thead>\n",
       "  <tbody>\n",
       "    <tr>\n",
       "      <th>1</th>\n",
       "      <td>Royals</td>\n",
       "      <td>2015</td>\n",
       "      <td>804</td>\n",
       "    </tr>\n",
       "    <tr>\n",
       "      <th>2</th>\n",
       "      <td>MI</td>\n",
       "      <td>2017</td>\n",
       "      <td>690</td>\n",
       "    </tr>\n",
       "    <tr>\n",
       "      <th>3</th>\n",
       "      <td>Kings</td>\n",
       "      <td>2014</td>\n",
       "      <td>741</td>\n",
       "    </tr>\n",
       "    <tr>\n",
       "      <th>4</th>\n",
       "      <td>Royals</td>\n",
       "      <td>2014</td>\n",
       "      <td>701</td>\n",
       "    </tr>\n",
       "  </tbody>\n",
       "</table>\n",
       "</div>"
      ],
      "text/plain": [
       "        Team  Year  Points\n",
       "Rank                      \n",
       "1     Royals  2015     804\n",
       "2         MI  2017     690\n",
       "3      Kings  2014     741\n",
       "4     Royals  2014     701"
      ]
     },
     "execution_count": 79,
     "metadata": {},
     "output_type": "execute_result"
    }
   ],
   "source": [
    "df.groupby('Rank').last() "
   ]
  },
  {
   "cell_type": "code",
   "execution_count": 80,
   "id": "686776a6",
   "metadata": {},
   "outputs": [
    {
     "data": {
      "text/plain": [
       "{('CSK', 2015): [5], ('CSK', 2016): [6], ('CSK', 2017): [7], ('Devils', 2014): [2], ('Devils', 2015): [3], ('Kings', 2014): [4], ('MI', 2014): [0], ('MI', 2015): [1], ('MI', 2016): [8], ('MI', 2017): [11], ('Royals', 2014): [9], ('Royals', 2015): [10]}"
      ]
     },
     "execution_count": 80,
     "metadata": {},
     "output_type": "execute_result"
    }
   ],
   "source": [
    "#Multiple column groupby\n",
    "df.groupby(['Team','Year']).groups"
   ]
  },
  {
   "cell_type": "markdown",
   "id": "d53d3460",
   "metadata": {},
   "source": [
    "# Iterations over Group"
   ]
  },
  {
   "cell_type": "code",
   "execution_count": 81,
   "id": "e8d2f82b",
   "metadata": {},
   "outputs": [
    {
     "data": {
      "text/plain": [
       "[(2014,\n",
       "       Team  Rank  Year  Points\n",
       "  0      MI     1  2014     876\n",
       "  2  Devils     2  2014     863\n",
       "  4   Kings     3  2014     741\n",
       "  9  Royals     4  2014     701),\n",
       " (2015,\n",
       "        Team  Rank  Year  Points\n",
       "  1       MI     2  2015     789\n",
       "  3   Devils     3  2015     673\n",
       "  5      CSK     4  2015     812\n",
       "  10  Royals     1  2015     804),\n",
       " (2016,\n",
       "    Team  Rank  Year  Points\n",
       "  6  CSK     1  2016     756\n",
       "  8   MI     2  2016     694),\n",
       " (2017,\n",
       "     Team  Rank  Year  Points\n",
       "  7   CSK     1  2017     788\n",
       "  11   MI     2  2017     690)]"
      ]
     },
     "execution_count": 81,
     "metadata": {},
     "output_type": "execute_result"
    }
   ],
   "source": [
    "#Iterating through groups\n",
    "#Problem statement: Identify yearwise records  from whole dataset\n",
    "list(df.groupby('Year'))"
   ]
  },
  {
   "cell_type": "code",
   "execution_count": 82,
   "id": "a5ca4ea5",
   "metadata": {},
   "outputs": [
    {
     "name": "stdout",
     "output_type": "stream",
     "text": [
      "(2014,      Team  Rank  Year  Points\n",
      "0      MI     1  2014     876\n",
      "2  Devils     2  2014     863\n",
      "4   Kings     3  2014     741\n",
      "9  Royals     4  2014     701)\n",
      "(2015,       Team  Rank  Year  Points\n",
      "1       MI     2  2015     789\n",
      "3   Devils     3  2015     673\n",
      "5      CSK     4  2015     812\n",
      "10  Royals     1  2015     804)\n",
      "(2016,   Team  Rank  Year  Points\n",
      "6  CSK     1  2016     756\n",
      "8   MI     2  2016     694)\n",
      "(2017,    Team  Rank  Year  Points\n",
      "7   CSK     1  2017     788\n",
      "11   MI     2  2017     690)\n"
     ]
    }
   ],
   "source": [
    "g1=df.groupby('Year')\n",
    "for s in g1:\n",
    "    print(s)"
   ]
  },
  {
   "cell_type": "code",
   "execution_count": 83,
   "id": "d428e86e",
   "metadata": {},
   "outputs": [
    {
     "name": "stdout",
     "output_type": "stream",
     "text": [
      "2014\n",
      "2015\n",
      "2016\n",
      "2017\n"
     ]
    }
   ],
   "source": [
    "grouped = df.groupby('Year')\n",
    "for v in grouped:\n",
    "    print(v[0])"
   ]
  },
  {
   "cell_type": "code",
   "execution_count": 84,
   "id": "7dc3246f",
   "metadata": {},
   "outputs": [
    {
     "name": "stdout",
     "output_type": "stream",
     "text": [
      "      Team  Rank  Year  Points\n",
      "1       MI     2  2015     789\n",
      "3   Devils     3  2015     673\n",
      "5      CSK     4  2015     812\n",
      "10  Royals     1  2015     804\n"
     ]
    }
   ],
   "source": [
    "grouped = df.groupby('Year')\n",
    "for v in grouped:\n",
    "    if v[0]==2015:\n",
    "        print(v[1])\n",
    "        \n",
    "    "
   ]
  },
  {
   "cell_type": "code",
   "execution_count": 85,
   "id": "2c62c2e0",
   "metadata": {},
   "outputs": [
    {
     "data": {
      "text/plain": [
       "[(2014,\n",
       "       Team  Rank  Year  Points\n",
       "  0      MI     1  2014     876\n",
       "  2  Devils     2  2014     863\n",
       "  4   Kings     3  2014     741\n",
       "  9  Royals     4  2014     701),\n",
       " (2015,\n",
       "        Team  Rank  Year  Points\n",
       "  1       MI     2  2015     789\n",
       "  3   Devils     3  2015     673\n",
       "  5      CSK     4  2015     812\n",
       "  10  Royals     1  2015     804),\n",
       " (2016,\n",
       "    Team  Rank  Year  Points\n",
       "  6  CSK     1  2016     756\n",
       "  8   MI     2  2016     694),\n",
       " (2017,\n",
       "     Team  Rank  Year  Points\n",
       "  7   CSK     1  2017     788\n",
       "  11   MI     2  2017     690)]"
      ]
     },
     "execution_count": 85,
     "metadata": {},
     "output_type": "execute_result"
    }
   ],
   "source": [
    "g1=df.groupby('Year')\n",
    "list(g1)"
   ]
  },
  {
   "cell_type": "code",
   "execution_count": 86,
   "id": "14fffcd1",
   "metadata": {},
   "outputs": [
    {
     "data": {
      "text/html": [
       "<div>\n",
       "<style scoped>\n",
       "    .dataframe tbody tr th:only-of-type {\n",
       "        vertical-align: middle;\n",
       "    }\n",
       "\n",
       "    .dataframe tbody tr th {\n",
       "        vertical-align: top;\n",
       "    }\n",
       "\n",
       "    .dataframe thead th {\n",
       "        text-align: right;\n",
       "    }\n",
       "</style>\n",
       "<table border=\"1\" class=\"dataframe\">\n",
       "  <thead>\n",
       "    <tr style=\"text-align: right;\">\n",
       "      <th></th>\n",
       "      <th>Team</th>\n",
       "      <th>Rank</th>\n",
       "      <th>Year</th>\n",
       "      <th>Points</th>\n",
       "    </tr>\n",
       "  </thead>\n",
       "  <tbody>\n",
       "    <tr>\n",
       "      <th>3</th>\n",
       "      <td>Devils</td>\n",
       "      <td>3</td>\n",
       "      <td>2015</td>\n",
       "      <td>673</td>\n",
       "    </tr>\n",
       "    <tr>\n",
       "      <th>5</th>\n",
       "      <td>CSK</td>\n",
       "      <td>4</td>\n",
       "      <td>2015</td>\n",
       "      <td>812</td>\n",
       "    </tr>\n",
       "  </tbody>\n",
       "</table>\n",
       "</div>"
      ],
      "text/plain": [
       "     Team  Rank  Year  Points\n",
       "3  Devils     3  2015     673\n",
       "5     CSK     4  2015     812"
      ]
     },
     "execution_count": 86,
     "metadata": {},
     "output_type": "execute_result"
    }
   ],
   "source": [
    "g1=df.groupby('Year')\n",
    "list(g1)[1:2][0][1][1:3]"
   ]
  },
  {
   "cell_type": "code",
   "execution_count": 115,
   "id": "979fd45a",
   "metadata": {},
   "outputs": [
    {
     "data": {
      "text/plain": [
       "(2015,\n",
       "       Team  Rank  Year  Points\n",
       " 1       MI     2  2015     789\n",
       " 3   Devils     3  2015     673\n",
       " 5      CSK     4  2015     812\n",
       " 10  Royals     1  2015     804)"
      ]
     },
     "execution_count": 115,
     "metadata": {},
     "output_type": "execute_result"
    }
   ],
   "source": [
    "g1=df.groupby('Year')\n",
    "list(g1)[1:2][0]"
   ]
  },
  {
   "cell_type": "code",
   "execution_count": 121,
   "id": "316d2044",
   "metadata": {},
   "outputs": [
    {
     "data": {
      "text/html": [
       "<div>\n",
       "<style scoped>\n",
       "    .dataframe tbody tr th:only-of-type {\n",
       "        vertical-align: middle;\n",
       "    }\n",
       "\n",
       "    .dataframe tbody tr th {\n",
       "        vertical-align: top;\n",
       "    }\n",
       "\n",
       "    .dataframe thead th {\n",
       "        text-align: right;\n",
       "    }\n",
       "</style>\n",
       "<table border=\"1\" class=\"dataframe\">\n",
       "  <thead>\n",
       "    <tr style=\"text-align: right;\">\n",
       "      <th></th>\n",
       "      <th>Team</th>\n",
       "      <th>Rank</th>\n",
       "      <th>Year</th>\n",
       "      <th>Points</th>\n",
       "    </tr>\n",
       "  </thead>\n",
       "  <tbody>\n",
       "    <tr>\n",
       "      <th>3</th>\n",
       "      <td>Devils</td>\n",
       "      <td>3</td>\n",
       "      <td>2015</td>\n",
       "      <td>673</td>\n",
       "    </tr>\n",
       "    <tr>\n",
       "      <th>5</th>\n",
       "      <td>CSK</td>\n",
       "      <td>4</td>\n",
       "      <td>2015</td>\n",
       "      <td>812</td>\n",
       "    </tr>\n",
       "  </tbody>\n",
       "</table>\n",
       "</div>"
      ],
      "text/plain": [
       "     Team  Rank  Year  Points\n",
       "3  Devils     3  2015     673\n",
       "5     CSK     4  2015     812"
      ]
     },
     "execution_count": 121,
     "metadata": {},
     "output_type": "execute_result"
    }
   ],
   "source": [
    "g1=df.groupby('Year')\n",
    "list(g1)[1][1][1:3]"
   ]
  },
  {
   "cell_type": "code",
   "execution_count": 114,
   "id": "c67749de",
   "metadata": {},
   "outputs": [
    {
     "data": {
      "text/plain": [
       "(      Team  Rank  Year  Points\n",
       " 1       MI     2  2015     789\n",
       " 3   Devils     3  2015     673\n",
       " 5      CSK     4  2015     812\n",
       " 10  Royals     1  2015     804,)"
      ]
     },
     "execution_count": 114,
     "metadata": {},
     "output_type": "execute_result"
    }
   ],
   "source": [
    "g1=df.groupby('Year')\n",
    "list(g1)[1:2][0][1:3]"
   ]
  },
  {
   "cell_type": "code",
   "execution_count": 89,
   "id": "3c0d92ad",
   "metadata": {},
   "outputs": [
    {
     "data": {
      "text/html": [
       "<div>\n",
       "<style scoped>\n",
       "    .dataframe tbody tr th:only-of-type {\n",
       "        vertical-align: middle;\n",
       "    }\n",
       "\n",
       "    .dataframe tbody tr th {\n",
       "        vertical-align: top;\n",
       "    }\n",
       "\n",
       "    .dataframe thead th {\n",
       "        text-align: right;\n",
       "    }\n",
       "</style>\n",
       "<table border=\"1\" class=\"dataframe\">\n",
       "  <thead>\n",
       "    <tr style=\"text-align: right;\">\n",
       "      <th></th>\n",
       "      <th>Team</th>\n",
       "      <th>Rank</th>\n",
       "      <th>Year</th>\n",
       "      <th>Points</th>\n",
       "    </tr>\n",
       "  </thead>\n",
       "  <tbody>\n",
       "    <tr>\n",
       "      <th>1</th>\n",
       "      <td>MI</td>\n",
       "      <td>2</td>\n",
       "      <td>2015</td>\n",
       "      <td>789</td>\n",
       "    </tr>\n",
       "    <tr>\n",
       "      <th>3</th>\n",
       "      <td>Devils</td>\n",
       "      <td>3</td>\n",
       "      <td>2015</td>\n",
       "      <td>673</td>\n",
       "    </tr>\n",
       "    <tr>\n",
       "      <th>5</th>\n",
       "      <td>CSK</td>\n",
       "      <td>4</td>\n",
       "      <td>2015</td>\n",
       "      <td>812</td>\n",
       "    </tr>\n",
       "    <tr>\n",
       "      <th>10</th>\n",
       "      <td>Royals</td>\n",
       "      <td>1</td>\n",
       "      <td>2015</td>\n",
       "      <td>804</td>\n",
       "    </tr>\n",
       "  </tbody>\n",
       "</table>\n",
       "</div>"
      ],
      "text/plain": [
       "      Team  Rank  Year  Points\n",
       "1       MI     2  2015     789\n",
       "3   Devils     3  2015     673\n",
       "5      CSK     4  2015     812\n",
       "10  Royals     1  2015     804"
      ]
     },
     "execution_count": 89,
     "metadata": {},
     "output_type": "execute_result"
    }
   ],
   "source": [
    "#fetch record of 2015 without using groupby\n",
    "df[df['Year']==2015]"
   ]
  },
  {
   "cell_type": "code",
   "execution_count": 90,
   "id": "42cd8a12",
   "metadata": {},
   "outputs": [
    {
     "data": {
      "text/html": [
       "<div>\n",
       "<style scoped>\n",
       "    .dataframe tbody tr th:only-of-type {\n",
       "        vertical-align: middle;\n",
       "    }\n",
       "\n",
       "    .dataframe tbody tr th {\n",
       "        vertical-align: top;\n",
       "    }\n",
       "\n",
       "    .dataframe thead th {\n",
       "        text-align: right;\n",
       "    }\n",
       "</style>\n",
       "<table border=\"1\" class=\"dataframe\">\n",
       "  <thead>\n",
       "    <tr style=\"text-align: right;\">\n",
       "      <th></th>\n",
       "      <th>Team</th>\n",
       "      <th>Rank</th>\n",
       "      <th>Year</th>\n",
       "      <th>Points</th>\n",
       "    </tr>\n",
       "  </thead>\n",
       "  <tbody>\n",
       "    <tr>\n",
       "      <th>1</th>\n",
       "      <td>MI</td>\n",
       "      <td>2</td>\n",
       "      <td>2015</td>\n",
       "      <td>789</td>\n",
       "    </tr>\n",
       "    <tr>\n",
       "      <th>3</th>\n",
       "      <td>Devils</td>\n",
       "      <td>3</td>\n",
       "      <td>2015</td>\n",
       "      <td>673</td>\n",
       "    </tr>\n",
       "    <tr>\n",
       "      <th>5</th>\n",
       "      <td>CSK</td>\n",
       "      <td>4</td>\n",
       "      <td>2015</td>\n",
       "      <td>812</td>\n",
       "    </tr>\n",
       "    <tr>\n",
       "      <th>10</th>\n",
       "      <td>Royals</td>\n",
       "      <td>1</td>\n",
       "      <td>2015</td>\n",
       "      <td>804</td>\n",
       "    </tr>\n",
       "  </tbody>\n",
       "</table>\n",
       "</div>"
      ],
      "text/plain": [
       "      Team  Rank  Year  Points\n",
       "1       MI     2  2015     789\n",
       "3   Devils     3  2015     673\n",
       "5      CSK     4  2015     812\n",
       "10  Royals     1  2015     804"
      ]
     },
     "execution_count": 90,
     "metadata": {},
     "output_type": "execute_result"
    }
   ],
   "source": [
    "df.query('Year==2015')"
   ]
  },
  {
   "cell_type": "code",
   "execution_count": 91,
   "id": "121fd7a3",
   "metadata": {},
   "outputs": [
    {
     "data": {
      "text/html": [
       "<div>\n",
       "<style scoped>\n",
       "    .dataframe tbody tr th:only-of-type {\n",
       "        vertical-align: middle;\n",
       "    }\n",
       "\n",
       "    .dataframe tbody tr th {\n",
       "        vertical-align: top;\n",
       "    }\n",
       "\n",
       "    .dataframe thead th {\n",
       "        text-align: right;\n",
       "    }\n",
       "</style>\n",
       "<table border=\"1\" class=\"dataframe\">\n",
       "  <thead>\n",
       "    <tr style=\"text-align: right;\">\n",
       "      <th></th>\n",
       "      <th>Team</th>\n",
       "      <th>Rank</th>\n",
       "      <th>Year</th>\n",
       "      <th>Points</th>\n",
       "    </tr>\n",
       "  </thead>\n",
       "  <tbody>\n",
       "    <tr>\n",
       "      <th>1</th>\n",
       "      <td>MI</td>\n",
       "      <td>2</td>\n",
       "      <td>2015</td>\n",
       "      <td>789</td>\n",
       "    </tr>\n",
       "    <tr>\n",
       "      <th>3</th>\n",
       "      <td>Devils</td>\n",
       "      <td>3</td>\n",
       "      <td>2015</td>\n",
       "      <td>673</td>\n",
       "    </tr>\n",
       "    <tr>\n",
       "      <th>5</th>\n",
       "      <td>CSK</td>\n",
       "      <td>4</td>\n",
       "      <td>2015</td>\n",
       "      <td>812</td>\n",
       "    </tr>\n",
       "    <tr>\n",
       "      <th>10</th>\n",
       "      <td>Royals</td>\n",
       "      <td>1</td>\n",
       "      <td>2015</td>\n",
       "      <td>804</td>\n",
       "    </tr>\n",
       "  </tbody>\n",
       "</table>\n",
       "</div>"
      ],
      "text/plain": [
       "      Team  Rank  Year  Points\n",
       "1       MI     2  2015     789\n",
       "3   Devils     3  2015     673\n",
       "5      CSK     4  2015     812\n",
       "10  Royals     1  2015     804"
      ]
     },
     "execution_count": 91,
     "metadata": {},
     "output_type": "execute_result"
    }
   ],
   "source": [
    "df[df.loc[:,'Year']==2015]"
   ]
  },
  {
   "cell_type": "code",
   "execution_count": 92,
   "id": "458043b4",
   "metadata": {},
   "outputs": [
    {
     "data": {
      "text/html": [
       "<div>\n",
       "<style scoped>\n",
       "    .dataframe tbody tr th:only-of-type {\n",
       "        vertical-align: middle;\n",
       "    }\n",
       "\n",
       "    .dataframe tbody tr th {\n",
       "        vertical-align: top;\n",
       "    }\n",
       "\n",
       "    .dataframe thead th {\n",
       "        text-align: right;\n",
       "    }\n",
       "</style>\n",
       "<table border=\"1\" class=\"dataframe\">\n",
       "  <thead>\n",
       "    <tr style=\"text-align: right;\">\n",
       "      <th></th>\n",
       "      <th>Team</th>\n",
       "      <th>Rank</th>\n",
       "      <th>Year</th>\n",
       "      <th>Points</th>\n",
       "    </tr>\n",
       "  </thead>\n",
       "  <tbody>\n",
       "    <tr>\n",
       "      <th>1</th>\n",
       "      <td>MI</td>\n",
       "      <td>2</td>\n",
       "      <td>2015</td>\n",
       "      <td>789</td>\n",
       "    </tr>\n",
       "    <tr>\n",
       "      <th>3</th>\n",
       "      <td>Devils</td>\n",
       "      <td>3</td>\n",
       "      <td>2015</td>\n",
       "      <td>673</td>\n",
       "    </tr>\n",
       "    <tr>\n",
       "      <th>5</th>\n",
       "      <td>CSK</td>\n",
       "      <td>4</td>\n",
       "      <td>2015</td>\n",
       "      <td>812</td>\n",
       "    </tr>\n",
       "    <tr>\n",
       "      <th>10</th>\n",
       "      <td>Royals</td>\n",
       "      <td>1</td>\n",
       "      <td>2015</td>\n",
       "      <td>804</td>\n",
       "    </tr>\n",
       "  </tbody>\n",
       "</table>\n",
       "</div>"
      ],
      "text/plain": [
       "      Team  Rank  Year  Points\n",
       "1       MI     2  2015     789\n",
       "3   Devils     3  2015     673\n",
       "5      CSK     4  2015     812\n",
       "10  Royals     1  2015     804"
      ]
     },
     "execution_count": 92,
     "metadata": {},
     "output_type": "execute_result"
    }
   ],
   "source": [
    "grouped = df.groupby('Year')\n",
    "grouped.get_group(2015)"
   ]
  },
  {
   "cell_type": "code",
   "execution_count": 93,
   "id": "602c6902",
   "metadata": {},
   "outputs": [
    {
     "data": {
      "text/html": [
       "<div>\n",
       "<style scoped>\n",
       "    .dataframe tbody tr th:only-of-type {\n",
       "        vertical-align: middle;\n",
       "    }\n",
       "\n",
       "    .dataframe tbody tr th {\n",
       "        vertical-align: top;\n",
       "    }\n",
       "\n",
       "    .dataframe thead th {\n",
       "        text-align: right;\n",
       "    }\n",
       "</style>\n",
       "<table border=\"1\" class=\"dataframe\">\n",
       "  <thead>\n",
       "    <tr style=\"text-align: right;\">\n",
       "      <th></th>\n",
       "      <th>Team</th>\n",
       "      <th>Rank</th>\n",
       "      <th>Year</th>\n",
       "      <th>Points</th>\n",
       "    </tr>\n",
       "  </thead>\n",
       "  <tbody>\n",
       "    <tr>\n",
       "      <th>0</th>\n",
       "      <td>MI</td>\n",
       "      <td>1</td>\n",
       "      <td>2014</td>\n",
       "      <td>876</td>\n",
       "    </tr>\n",
       "    <tr>\n",
       "      <th>1</th>\n",
       "      <td>MI</td>\n",
       "      <td>2</td>\n",
       "      <td>2015</td>\n",
       "      <td>789</td>\n",
       "    </tr>\n",
       "    <tr>\n",
       "      <th>8</th>\n",
       "      <td>MI</td>\n",
       "      <td>2</td>\n",
       "      <td>2016</td>\n",
       "      <td>694</td>\n",
       "    </tr>\n",
       "    <tr>\n",
       "      <th>11</th>\n",
       "      <td>MI</td>\n",
       "      <td>2</td>\n",
       "      <td>2017</td>\n",
       "      <td>690</td>\n",
       "    </tr>\n",
       "  </tbody>\n",
       "</table>\n",
       "</div>"
      ],
      "text/plain": [
       "   Team  Rank  Year  Points\n",
       "0    MI     1  2014     876\n",
       "1    MI     2  2015     789\n",
       "8    MI     2  2016     694\n",
       "11   MI     2  2017     690"
      ]
     },
     "execution_count": 93,
     "metadata": {},
     "output_type": "execute_result"
    }
   ],
   "source": [
    "#Selecting a perticular group\n",
    "grouped = df.groupby('Team')\n",
    "grouped.get_group('MI')"
   ]
  },
  {
   "cell_type": "code",
   "execution_count": 94,
   "id": "ffd2ab39",
   "metadata": {},
   "outputs": [
    {
     "data": {
      "text/plain": [
       "(2014,\n",
       "      Team  Rank  Year  Points\n",
       " 0      MI     1  2014     876\n",
       " 2  Devils     2  2014     863\n",
       " 4   Kings     3  2014     741\n",
       " 9  Royals     4  2014     701)"
      ]
     },
     "execution_count": 94,
     "metadata": {},
     "output_type": "execute_result"
    }
   ],
   "source": [
    "#wantto fetch the data of year =2014\n",
    "list(df.groupby('Year'))[0]"
   ]
  },
  {
   "cell_type": "code",
   "execution_count": 95,
   "id": "1fd55f3d",
   "metadata": {},
   "outputs": [
    {
     "data": {
      "text/html": [
       "<div>\n",
       "<style scoped>\n",
       "    .dataframe tbody tr th:only-of-type {\n",
       "        vertical-align: middle;\n",
       "    }\n",
       "\n",
       "    .dataframe tbody tr th {\n",
       "        vertical-align: top;\n",
       "    }\n",
       "\n",
       "    .dataframe thead th {\n",
       "        text-align: right;\n",
       "    }\n",
       "</style>\n",
       "<table border=\"1\" class=\"dataframe\">\n",
       "  <thead>\n",
       "    <tr style=\"text-align: right;\">\n",
       "      <th></th>\n",
       "      <th>Team</th>\n",
       "      <th>Rank</th>\n",
       "      <th>Year</th>\n",
       "      <th>Points</th>\n",
       "    </tr>\n",
       "  </thead>\n",
       "  <tbody>\n",
       "    <tr>\n",
       "      <th>7</th>\n",
       "      <td>CSK</td>\n",
       "      <td>1</td>\n",
       "      <td>2017</td>\n",
       "      <td>788</td>\n",
       "    </tr>\n",
       "    <tr>\n",
       "      <th>11</th>\n",
       "      <td>MI</td>\n",
       "      <td>2</td>\n",
       "      <td>2017</td>\n",
       "      <td>690</td>\n",
       "    </tr>\n",
       "  </tbody>\n",
       "</table>\n",
       "</div>"
      ],
      "text/plain": [
       "   Team  Rank  Year  Points\n",
       "7   CSK     1  2017     788\n",
       "11   MI     2  2017     690"
      ]
     },
     "execution_count": 95,
     "metadata": {},
     "output_type": "execute_result"
    }
   ],
   "source": [
    "#i want record of year 2017\n",
    "df.groupby('Year').get_group(2017)"
   ]
  },
  {
   "cell_type": "code",
   "execution_count": 96,
   "id": "d7aa1ffe",
   "metadata": {},
   "outputs": [
    {
     "data": {
      "text/html": [
       "<div>\n",
       "<style scoped>\n",
       "    .dataframe tbody tr th:only-of-type {\n",
       "        vertical-align: middle;\n",
       "    }\n",
       "\n",
       "    .dataframe tbody tr th {\n",
       "        vertical-align: top;\n",
       "    }\n",
       "\n",
       "    .dataframe thead th {\n",
       "        text-align: right;\n",
       "    }\n",
       "</style>\n",
       "<table border=\"1\" class=\"dataframe\">\n",
       "  <thead>\n",
       "    <tr style=\"text-align: right;\">\n",
       "      <th></th>\n",
       "      <th>Team</th>\n",
       "      <th>Rank</th>\n",
       "      <th>Year</th>\n",
       "      <th>Points</th>\n",
       "    </tr>\n",
       "  </thead>\n",
       "  <tbody>\n",
       "    <tr>\n",
       "      <th>0</th>\n",
       "      <td>MI</td>\n",
       "      <td>1</td>\n",
       "      <td>2014</td>\n",
       "      <td>876</td>\n",
       "    </tr>\n",
       "    <tr>\n",
       "      <th>6</th>\n",
       "      <td>CSK</td>\n",
       "      <td>1</td>\n",
       "      <td>2016</td>\n",
       "      <td>756</td>\n",
       "    </tr>\n",
       "    <tr>\n",
       "      <th>7</th>\n",
       "      <td>CSK</td>\n",
       "      <td>1</td>\n",
       "      <td>2017</td>\n",
       "      <td>788</td>\n",
       "    </tr>\n",
       "    <tr>\n",
       "      <th>10</th>\n",
       "      <td>Royals</td>\n",
       "      <td>1</td>\n",
       "      <td>2015</td>\n",
       "      <td>804</td>\n",
       "    </tr>\n",
       "  </tbody>\n",
       "</table>\n",
       "</div>"
      ],
      "text/plain": [
       "      Team  Rank  Year  Points\n",
       "0       MI     1  2014     876\n",
       "6      CSK     1  2016     756\n",
       "7      CSK     1  2017     788\n",
       "10  Royals     1  2015     804"
      ]
     },
     "execution_count": 96,
     "metadata": {},
     "output_type": "execute_result"
    }
   ],
   "source": [
    "# i want the team who stood 1st max times in ipl\n",
    "df.groupby('Rank').get_group(1)"
   ]
  },
  {
   "cell_type": "code",
   "execution_count": 97,
   "id": "29633888",
   "metadata": {},
   "outputs": [
    {
     "data": {
      "text/plain": [
       "CSK       2\n",
       "Royals    1\n",
       "MI        1\n",
       "Name: Team, dtype: int64"
      ]
     },
     "execution_count": 97,
     "metadata": {},
     "output_type": "execute_result"
    }
   ],
   "source": [
    "df.groupby('Rank').get_group(1)['Team'].value_counts()"
   ]
  },
  {
   "cell_type": "code",
   "execution_count": 98,
   "id": "bb72acef",
   "metadata": {},
   "outputs": [
    {
     "data": {
      "text/plain": [
       "MI        4\n",
       "CSK       3\n",
       "Royals    2\n",
       "Devils    2\n",
       "Kings     1\n",
       "Name: Team, dtype: int64"
      ]
     },
     "execution_count": 98,
     "metadata": {},
     "output_type": "execute_result"
    }
   ],
   "source": [
    "df[\"Team\"].value_counts()"
   ]
  },
  {
   "cell_type": "code",
   "execution_count": 99,
   "id": "2d5a73cd",
   "metadata": {},
   "outputs": [
    {
     "data": {
      "text/plain": [
       "Year\n",
       "2014    3181\n",
       "2015    3078\n",
       "2016    1450\n",
       "2017    1478\n",
       "Name: Points, dtype: int64"
      ]
     },
     "execution_count": 99,
     "metadata": {},
     "output_type": "execute_result"
    }
   ],
   "source": [
    "#Aggregations #sum mean median mode std\n",
    "#Aggregations work only on Numeric fields\n",
    "import numpy as np\n",
    "grouped = df.groupby('Year')\n",
    "grouped['Points'].agg(np.sum)"
   ]
  },
  {
   "cell_type": "code",
   "execution_count": 100,
   "id": "7061d1bd",
   "metadata": {},
   "outputs": [
    {
     "data": {
      "text/html": [
       "<div>\n",
       "<style scoped>\n",
       "    .dataframe tbody tr th:only-of-type {\n",
       "        vertical-align: middle;\n",
       "    }\n",
       "\n",
       "    .dataframe tbody tr th {\n",
       "        vertical-align: top;\n",
       "    }\n",
       "\n",
       "    .dataframe thead th {\n",
       "        text-align: right;\n",
       "    }\n",
       "</style>\n",
       "<table border=\"1\" class=\"dataframe\">\n",
       "  <thead>\n",
       "    <tr style=\"text-align: right;\">\n",
       "      <th></th>\n",
       "      <th>Rank</th>\n",
       "      <th>Year</th>\n",
       "      <th>Points</th>\n",
       "    </tr>\n",
       "    <tr>\n",
       "      <th>Team</th>\n",
       "      <th></th>\n",
       "      <th></th>\n",
       "      <th></th>\n",
       "    </tr>\n",
       "  </thead>\n",
       "  <tbody>\n",
       "    <tr>\n",
       "      <th>CSK</th>\n",
       "      <td>3</td>\n",
       "      <td>3</td>\n",
       "      <td>3</td>\n",
       "    </tr>\n",
       "    <tr>\n",
       "      <th>Devils</th>\n",
       "      <td>2</td>\n",
       "      <td>2</td>\n",
       "      <td>2</td>\n",
       "    </tr>\n",
       "    <tr>\n",
       "      <th>Kings</th>\n",
       "      <td>1</td>\n",
       "      <td>1</td>\n",
       "      <td>1</td>\n",
       "    </tr>\n",
       "    <tr>\n",
       "      <th>MI</th>\n",
       "      <td>4</td>\n",
       "      <td>4</td>\n",
       "      <td>4</td>\n",
       "    </tr>\n",
       "    <tr>\n",
       "      <th>Royals</th>\n",
       "      <td>2</td>\n",
       "      <td>2</td>\n",
       "      <td>2</td>\n",
       "    </tr>\n",
       "  </tbody>\n",
       "</table>\n",
       "</div>"
      ],
      "text/plain": [
       "        Rank  Year  Points\n",
       "Team                      \n",
       "CSK        3     3       3\n",
       "Devils     2     2       2\n",
       "Kings      1     1       1\n",
       "MI         4     4       4\n",
       "Royals     2     2       2"
      ]
     },
     "execution_count": 100,
     "metadata": {},
     "output_type": "execute_result"
    }
   ],
   "source": [
    "grouped = df.groupby('Team')\n",
    "grouped.agg(np.size) #here size is nothing but occurance"
   ]
  },
  {
   "cell_type": "code",
   "execution_count": 101,
   "id": "357078c4",
   "metadata": {},
   "outputs": [
    {
     "data": {
      "text/plain": [
       "MI        4\n",
       "CSK       3\n",
       "Royals    2\n",
       "Devils    2\n",
       "Kings     1\n",
       "Name: Team, dtype: int64"
      ]
     },
     "execution_count": 101,
     "metadata": {},
     "output_type": "execute_result"
    }
   ],
   "source": [
    "df.Team.value_counts()"
   ]
  },
  {
   "cell_type": "code",
   "execution_count": 102,
   "id": "3f4f9fae",
   "metadata": {},
   "outputs": [
    {
     "data": {
      "text/plain": [
       "MI        4\n",
       "CSK       3\n",
       "Royals    2\n",
       "Devils    2\n",
       "Kings     1\n",
       "Name: Team, dtype: int64"
      ]
     },
     "execution_count": 102,
     "metadata": {},
     "output_type": "execute_result"
    }
   ],
   "source": [
    "df['Team'].value_counts()"
   ]
  },
  {
   "cell_type": "code",
   "execution_count": 103,
   "id": "79cf8693",
   "metadata": {},
   "outputs": [
    {
     "data": {
      "text/html": [
       "<div>\n",
       "<style scoped>\n",
       "    .dataframe tbody tr th:only-of-type {\n",
       "        vertical-align: middle;\n",
       "    }\n",
       "\n",
       "    .dataframe tbody tr th {\n",
       "        vertical-align: top;\n",
       "    }\n",
       "\n",
       "    .dataframe thead th {\n",
       "        text-align: right;\n",
       "    }\n",
       "</style>\n",
       "<table border=\"1\" class=\"dataframe\">\n",
       "  <thead>\n",
       "    <tr style=\"text-align: right;\">\n",
       "      <th></th>\n",
       "      <th>sum</th>\n",
       "      <th>mean</th>\n",
       "      <th>std</th>\n",
       "    </tr>\n",
       "    <tr>\n",
       "      <th>Team</th>\n",
       "      <th></th>\n",
       "      <th></th>\n",
       "      <th></th>\n",
       "    </tr>\n",
       "  </thead>\n",
       "  <tbody>\n",
       "    <tr>\n",
       "      <th>CSK</th>\n",
       "      <td>2356</td>\n",
       "      <td>785.333333</td>\n",
       "      <td>28.095077</td>\n",
       "    </tr>\n",
       "    <tr>\n",
       "      <th>Devils</th>\n",
       "      <td>1536</td>\n",
       "      <td>768.000000</td>\n",
       "      <td>134.350288</td>\n",
       "    </tr>\n",
       "    <tr>\n",
       "      <th>Kings</th>\n",
       "      <td>741</td>\n",
       "      <td>741.000000</td>\n",
       "      <td>NaN</td>\n",
       "    </tr>\n",
       "    <tr>\n",
       "      <th>MI</th>\n",
       "      <td>3049</td>\n",
       "      <td>762.250000</td>\n",
       "      <td>88.567771</td>\n",
       "    </tr>\n",
       "    <tr>\n",
       "      <th>Royals</th>\n",
       "      <td>1505</td>\n",
       "      <td>752.500000</td>\n",
       "      <td>72.831998</td>\n",
       "    </tr>\n",
       "  </tbody>\n",
       "</table>\n",
       "</div>"
      ],
      "text/plain": [
       "         sum        mean         std\n",
       "Team                                \n",
       "CSK     2356  785.333333   28.095077\n",
       "Devils  1536  768.000000  134.350288\n",
       "Kings    741  741.000000         NaN\n",
       "MI      3049  762.250000   88.567771\n",
       "Royals  1505  752.500000   72.831998"
      ]
     },
     "execution_count": 103,
     "metadata": {},
     "output_type": "execute_result"
    }
   ],
   "source": [
    "#Applying Multiple Aggregation Functions at Once\n",
    "grouped = df.groupby('Team')\n",
    "grouped['Points'].agg([np.sum, np.mean, np.std])"
   ]
  },
  {
   "cell_type": "code",
   "execution_count": 104,
   "id": "0ce8f030",
   "metadata": {},
   "outputs": [
    {
     "data": {
      "text/plain": [
       "0     1376\n",
       "1     1289\n",
       "2     1363\n",
       "3     1173\n",
       "4     1241\n",
       "5     1312\n",
       "6     1256\n",
       "7     1288\n",
       "8     1194\n",
       "9     1201\n",
       "10    1304\n",
       "11    1190\n",
       "Name: Points, dtype: int64"
      ]
     },
     "execution_count": 104,
     "metadata": {},
     "output_type": "execute_result"
    }
   ],
   "source": [
    "#Transformation calling a function over the selected data\n",
    "grouped = df.groupby('Team')\n",
    "score = lambda x: (x + 500)\n",
    "grouped['Points'].transform(score)"
   ]
  },
  {
   "cell_type": "code",
   "execution_count": 105,
   "id": "f56ac3f5",
   "metadata": {},
   "outputs": [
    {
     "data": {
      "text/plain": [
       "0     976\n",
       "1     889\n",
       "2     963\n",
       "3     773\n",
       "4     841\n",
       "5     912\n",
       "6     856\n",
       "7     888\n",
       "8     794\n",
       "9     801\n",
       "10    904\n",
       "11    790\n",
       "Name: Points, dtype: int64"
      ]
     },
     "execution_count": 105,
     "metadata": {},
     "output_type": "execute_result"
    }
   ],
   "source": [
    "#list(df.groupby('Team')['Points'])\n",
    "df.groupby('Team')['Points'].transform(lambda x:x+100)"
   ]
  },
  {
   "cell_type": "code",
   "execution_count": 106,
   "id": "6063a787",
   "metadata": {},
   "outputs": [
    {
     "data": {
      "text/plain": [
       "[('CSK',\n",
       "  5    812\n",
       "  6    756\n",
       "  7    788\n",
       "  Name: Points, dtype: int64),\n",
       " ('Devils',\n",
       "  2    863\n",
       "  3    673\n",
       "  Name: Points, dtype: int64),\n",
       " ('Kings',\n",
       "  4    741\n",
       "  Name: Points, dtype: int64),\n",
       " ('MI',\n",
       "  0     876\n",
       "  1     789\n",
       "  8     694\n",
       "  11    690\n",
       "  Name: Points, dtype: int64),\n",
       " ('Royals',\n",
       "  9     701\n",
       "  10    804\n",
       "  Name: Points, dtype: int64)]"
      ]
     },
     "execution_count": 106,
     "metadata": {},
     "output_type": "execute_result"
    }
   ],
   "source": [
    "list(df.groupby('Team')['Points'])"
   ]
  },
  {
   "cell_type": "code",
   "execution_count": 107,
   "id": "37565135",
   "metadata": {},
   "outputs": [
    {
     "data": {
      "text/plain": [
       "[('CSK',\n",
       "  5    812\n",
       "  6    756\n",
       "  7    788\n",
       "  Name: Points, dtype: int64),\n",
       " ('Devils',\n",
       "  2    863\n",
       "  3    673\n",
       "  Name: Points, dtype: int64),\n",
       " ('Kings',\n",
       "  4    741\n",
       "  Name: Points, dtype: int64),\n",
       " ('MI',\n",
       "  0     876\n",
       "  1     789\n",
       "  8     694\n",
       "  11    690\n",
       "  Name: Points, dtype: int64),\n",
       " ('Royals',\n",
       "  9     701\n",
       "  10    804\n",
       "  Name: Points, dtype: int64)]"
      ]
     },
     "execution_count": 107,
     "metadata": {},
     "output_type": "execute_result"
    }
   ],
   "source": [
    "list(df.groupby('Team')['Points'])"
   ]
  },
  {
   "cell_type": "code",
   "execution_count": 108,
   "id": "da83c49d",
   "metadata": {},
   "outputs": [
    {
     "data": {
      "text/plain": [
       "5    822\n",
       "6    766\n",
       "7    798\n",
       "Name: Points, dtype: int64"
      ]
     },
     "execution_count": 108,
     "metadata": {},
     "output_type": "execute_result"
    }
   ],
   "source": [
    "# I wantto give the +10 exxtra points to csk use transform\n",
    "df.groupby('Team').get_group('CSK')['Points'].transform(lambda x:x+10)"
   ]
  },
  {
   "cell_type": "code",
   "execution_count": 109,
   "id": "457d6b96",
   "metadata": {
    "scrolled": true
   },
   "outputs": [
    {
     "data": {
      "text/html": [
       "<div>\n",
       "<style scoped>\n",
       "    .dataframe tbody tr th:only-of-type {\n",
       "        vertical-align: middle;\n",
       "    }\n",
       "\n",
       "    .dataframe tbody tr th {\n",
       "        vertical-align: top;\n",
       "    }\n",
       "\n",
       "    .dataframe thead th {\n",
       "        text-align: right;\n",
       "    }\n",
       "</style>\n",
       "<table border=\"1\" class=\"dataframe\">\n",
       "  <thead>\n",
       "    <tr style=\"text-align: right;\">\n",
       "      <th></th>\n",
       "      <th>Team</th>\n",
       "      <th>Rank</th>\n",
       "      <th>Year</th>\n",
       "      <th>Points</th>\n",
       "    </tr>\n",
       "  </thead>\n",
       "  <tbody>\n",
       "    <tr>\n",
       "      <th>0</th>\n",
       "      <td>MI</td>\n",
       "      <td>1</td>\n",
       "      <td>2014</td>\n",
       "      <td>876</td>\n",
       "    </tr>\n",
       "    <tr>\n",
       "      <th>1</th>\n",
       "      <td>MI</td>\n",
       "      <td>2</td>\n",
       "      <td>2015</td>\n",
       "      <td>789</td>\n",
       "    </tr>\n",
       "    <tr>\n",
       "      <th>2</th>\n",
       "      <td>Devils</td>\n",
       "      <td>2</td>\n",
       "      <td>2014</td>\n",
       "      <td>863</td>\n",
       "    </tr>\n",
       "    <tr>\n",
       "      <th>3</th>\n",
       "      <td>Devils</td>\n",
       "      <td>3</td>\n",
       "      <td>2015</td>\n",
       "      <td>673</td>\n",
       "    </tr>\n",
       "    <tr>\n",
       "      <th>4</th>\n",
       "      <td>Kings</td>\n",
       "      <td>3</td>\n",
       "      <td>2014</td>\n",
       "      <td>741</td>\n",
       "    </tr>\n",
       "    <tr>\n",
       "      <th>5</th>\n",
       "      <td>CSK</td>\n",
       "      <td>4</td>\n",
       "      <td>2015</td>\n",
       "      <td>812</td>\n",
       "    </tr>\n",
       "    <tr>\n",
       "      <th>6</th>\n",
       "      <td>CSK</td>\n",
       "      <td>1</td>\n",
       "      <td>2016</td>\n",
       "      <td>756</td>\n",
       "    </tr>\n",
       "    <tr>\n",
       "      <th>7</th>\n",
       "      <td>CSK</td>\n",
       "      <td>1</td>\n",
       "      <td>2017</td>\n",
       "      <td>788</td>\n",
       "    </tr>\n",
       "    <tr>\n",
       "      <th>8</th>\n",
       "      <td>MI</td>\n",
       "      <td>2</td>\n",
       "      <td>2016</td>\n",
       "      <td>694</td>\n",
       "    </tr>\n",
       "    <tr>\n",
       "      <th>9</th>\n",
       "      <td>Royals</td>\n",
       "      <td>4</td>\n",
       "      <td>2014</td>\n",
       "      <td>701</td>\n",
       "    </tr>\n",
       "    <tr>\n",
       "      <th>10</th>\n",
       "      <td>Royals</td>\n",
       "      <td>1</td>\n",
       "      <td>2015</td>\n",
       "      <td>804</td>\n",
       "    </tr>\n",
       "    <tr>\n",
       "      <th>11</th>\n",
       "      <td>MI</td>\n",
       "      <td>2</td>\n",
       "      <td>2017</td>\n",
       "      <td>690</td>\n",
       "    </tr>\n",
       "  </tbody>\n",
       "</table>\n",
       "</div>"
      ],
      "text/plain": [
       "      Team  Rank  Year  Points\n",
       "0       MI     1  2014     876\n",
       "1       MI     2  2015     789\n",
       "2   Devils     2  2014     863\n",
       "3   Devils     3  2015     673\n",
       "4    Kings     3  2014     741\n",
       "5      CSK     4  2015     812\n",
       "6      CSK     1  2016     756\n",
       "7      CSK     1  2017     788\n",
       "8       MI     2  2016     694\n",
       "9   Royals     4  2014     701\n",
       "10  Royals     1  2015     804\n",
       "11      MI     2  2017     690"
      ]
     },
     "execution_count": 109,
     "metadata": {},
     "output_type": "execute_result"
    }
   ],
   "source": [
    "df"
   ]
  },
  {
   "cell_type": "code",
   "execution_count": 110,
   "id": "4ffa4730",
   "metadata": {},
   "outputs": [
    {
     "data": {
      "text/plain": [
       "1     799\n",
       "3     683\n",
       "5     822\n",
       "10    814\n",
       "Name: Points, dtype: int64"
      ]
     },
     "execution_count": 110,
     "metadata": {},
     "output_type": "execute_result"
    }
   ],
   "source": [
    " #I want to give extra +10 point only to the teams from year 2015\n",
    "df.groupby('Year').get_group(2015)['Points'].transform(lambda x:x+10)  "
   ]
  }
 ],
 "metadata": {
  "kernelspec": {
   "display_name": "Python 3",
   "language": "python",
   "name": "python3"
  },
  "language_info": {
   "codemirror_mode": {
    "name": "ipython",
    "version": 3
   },
   "file_extension": ".py",
   "mimetype": "text/x-python",
   "name": "python",
   "nbconvert_exporter": "python",
   "pygments_lexer": "ipython3",
   "version": "3.8.8"
  }
 },
 "nbformat": 4,
 "nbformat_minor": 5
}
